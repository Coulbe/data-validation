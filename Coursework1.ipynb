{
  "nbformat": 4,
  "nbformat_minor": 0,
  "metadata": {
    "colab": {
      "name": "Coursework1.ipynb",
      "provenance": [],
      "collapsed_sections": [
        "YpGfdX6Uh5jx",
        "EtvQYg-T1IFq",
        "B6Ukl-Qw40Uw",
        "jZzj-ija5xR0",
        "UM4Q2wpsRIch",
        "11sSxviGRe8m",
        "VNr2QcE0RoMl",
        "7ZKSJVJ3RzKV"
      ],
      "authorship_tag": "ABX9TyPE+17wFKL8h2r4XUrdCQDg",
      "include_colab_link": true
    },
    "kernelspec": {
      "name": "python3",
      "display_name": "Python 3"
    }
  },
  "cells": [
    {
      "cell_type": "markdown",
      "metadata": {
        "id": "view-in-github",
        "colab_type": "text"
      },
      "source": [
        "<a href=\"https://colab.research.google.com/github/Coulbe/data-validation/blob/master/Coursework1.ipynb\" target=\"_parent\"><img src=\"https://colab.research.google.com/assets/colab-badge.svg\" alt=\"Open In Colab\"/></a>"
      ]
    },
    {
      "cell_type": "markdown",
      "metadata": {
        "id": "FrccKazwHQp1"
      },
      "source": [
        "#Section I, (35 marks)\n"
      ]
    },
    {
      "cell_type": "markdown",
      "metadata": {
        "id": "hsZx7bu6Azxt"
      },
      "source": [
        "**1.1** Create a function to import the “bl_printed_music_500.csv” in Python.\n",
        "Transform it into a dictionary where keys are the column names (e.g., BL record ID, Composer etc.) and values are the records. [3 Marks]"
      ]
    },
    {
      "cell_type": "code",
      "metadata": {
        "colab": {
          "resources": {
            "http://localhost:8080/nbextensions/google.colab/files.js": {
              "data": "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",
              "ok": true,
              "headers": [
                [
                  "content-type",
                  "application/javascript"
                ]
              ],
              "status": 200,
              "status_text": ""
            }
          },
          "base_uri": "https://localhost:8080/",
          "height": 70
        },
        "id": "2rSUVeOD3xmK",
        "outputId": "785eb1aa-f257-4969-8154-985bf0db2623"
      },
      "source": [
        "from google.colab import files\n",
        "uploaded = files.upload()"
      ],
      "execution_count": 1,
      "outputs": [
        {
          "output_type": "display_data",
          "data": {
            "text/html": [
              "\n",
              "     <input type=\"file\" id=\"files-11713875-6741-44ac-acfc-98c4b21a8a6d\" name=\"files[]\" multiple disabled\n",
              "        style=\"border:none\" />\n",
              "     <output id=\"result-11713875-6741-44ac-acfc-98c4b21a8a6d\">\n",
              "      Upload widget is only available when the cell has been executed in the\n",
              "      current browser session. Please rerun this cell to enable.\n",
              "      </output>\n",
              "      <script src=\"/nbextensions/google.colab/files.js\"></script> "
            ],
            "text/plain": [
              "<IPython.core.display.HTML object>"
            ]
          },
          "metadata": {
            "tags": []
          }
        },
        {
          "output_type": "stream",
          "text": [
            "Saving bl_printed_music_500.csv to bl_printed_music_500.csv\n"
          ],
          "name": "stdout"
        }
      ]
    },
    {
      "cell_type": "code",
      "metadata": {
        "id": "_VVkfy8gs-J0",
        "colab": {
          "base_uri": "https://localhost:8080/"
        },
        "outputId": "b9147fc1-015b-47b8-c83c-1bb7bb8b7099"
      },
      "source": [
        "#Solution\n",
        "\n",
        "# A function to upload the “bl_printed_music_500.csv” in Python\n",
        "# Transform it into a dictionary where keys are the column names and values are the records\n",
        "import csv\n",
        "def load_csv_file(myfile):\n",
        "    with open(myfile, newline='', encoding=\"utf-8-sig\") as myfile:\n",
        "      reader = csv.DictReader(myfile)\n",
        "      for row in reader:\n",
        "        return dict(row)\n",
        "      \n",
        "        \n",
        "#Calling the function\n",
        "load_csv_file('bl_printed_music_500.csv')\n",
        "\n"
      ],
      "execution_count": 2,
      "outputs": [
        {
          "output_type": "execute_result",
          "data": {
            "text/plain": [
              "{'BL record ID': '001279866',\n",
              " 'BL shelfmark': 'mH00/3305 ; X.439/3548',\n",
              " 'Composer': '',\n",
              " 'Composer life dates': '',\n",
              " 'ISBN': '0140708421',\n",
              " 'ISMN': '',\n",
              " 'Place of publication': 'Harmondsworth',\n",
              " 'Publication date (not standardised)': '1973',\n",
              " 'Publication date (standardised)': '1973',\n",
              " 'Publisher': 'Penguin Books',\n",
              " 'Publisher number': '',\n",
              " 'Title': 'The Penguin book of Canadian Folk songs'}"
            ]
          },
          "metadata": {
            "tags": []
          },
          "execution_count": 2
        }
      ]
    },
    {
      "cell_type": "markdown",
      "metadata": {
        "id": "gldgBHsl-CL0"
      },
      "source": [
        "**1.2**  Create a function to search for a Composer by name in the dataset.\n",
        "Since a Composer could exist multiple times, the function should return a list of the appropriate “BL record IDs” related to the Composer. [3 Marks]"
      ]
    },
    {
      "cell_type": "code",
      "metadata": {
        "colab": {
          "base_uri": "https://localhost:8080/"
        },
        "id": "o4DJidhpFGfK",
        "outputId": "a32bce4c-49f4-4b98-9a3e-1a83f29ef229"
      },
      "source": [
        "# Solution:\n",
        "# A function to search for a Composer by name in the dataset. Since a Composer could exist multiple times, \n",
        "# The function returns a list of the appropriate columns.\n",
        "\n",
        "import csv\n",
        "def searchComposer(key):\n",
        "    counter = 0\n",
        "    with open('bl_printed_music_500.csv', newline='', encoding=\"utf-8-sig\") as csvfile:\n",
        "        reader = csv.DictReader(csvfile)\n",
        "        mylist =[]\n",
        "        for row in reader:\n",
        "            if key in row['Composer']: \n",
        "              counter =counter+1\n",
        "              mylist.append([row['BL record ID'],row['Composer']])\n",
        "                 \n",
        "        return ([mylist, 'Total record count:', counter])\n",
        "        \n",
        "#Test call\n",
        "searchComposer('A, A. W.') "
      ],
      "execution_count": 3,
      "outputs": [
        {
          "output_type": "execute_result",
          "data": {
            "text/plain": [
              "[[['004162393', 'A, A. W.'],\n",
              "  ['004162394', 'A, A. W.'],\n",
              "  ['004162395', 'A, A. W.'],\n",
              "  ['004162396', 'A, A. W.']],\n",
              " 'Total record count:',\n",
              " 4]"
            ]
          },
          "metadata": {
            "tags": []
          },
          "execution_count": 3
        }
      ]
    },
    {
      "cell_type": "markdown",
      "metadata": {
        "id": "SSAjttLQLmJr"
      },
      "source": [
        "**1.3** Create a function to search for a Composer by name in the dataset. Since a Composer could exist multiple times, the function should return a dictionary where the key is the Composer, and the values are the BL record IDs [4 marks]."
      ]
    },
    {
      "cell_type": "code",
      "metadata": {
        "colab": {
          "base_uri": "https://localhost:8080/"
        },
        "id": "_u7Rh37MMRTS",
        "outputId": "bf149443-c0b1-41eb-f4b9-ab35edbb8fe7"
      },
      "source": [
        "#Solution:\n",
        "# A function to search for a Composer by name in the dataset. \n",
        "# Since a Composer could exist multiple times, \n",
        "# The function should return a dictionary where the key is the Composer, \n",
        "# And the values are the BL record IDs\n",
        "\n",
        "def searchComposer(col, aname):\n",
        "  import csv\n",
        "  with open('bl_printed_music_500.csv', newline='', encoding=\"utf-8-sig\") as csvfile:\n",
        "      reader = csv.DictReader(csvfile) \n",
        "      mydict = {}\n",
        "      #count = 0\n",
        "      for row in reader:\n",
        "        if name in row[col]:\n",
        "          print({row[col]: row['BL record ID']})\n",
        "        \n",
        "  \n",
        "#Test call     \n",
        "name = 'A, A. W.'\n",
        "searchComposer('Composer', name)\n"
      ],
      "execution_count": 8,
      "outputs": [
        {
          "output_type": "stream",
          "text": [
            "{'A, A. W.': '004162393'}\n",
            "{'A, A. W.': '004162394'}\n",
            "{'A, A. W.': '004162395'}\n",
            "{'A, A. W.': '004162396'}\n"
          ],
          "name": "stdout"
        }
      ]
    },
    {
      "cell_type": "markdown",
      "metadata": {
        "id": "V_i5JMN5-U4h"
      },
      "source": [
        "\n",
        "\n",
        "**1.4** Create a function to count how many times a value appears in the dataset in a particular column.  [3 marks].\n",
        "For example, your code should be able to search for:\n",
        "\n",
        "**a.** How many times “1785” appears in “Publication date (standardised)” column.\n",
        "\n",
        "**b.** How many times “Penguin Books” appears in the “Publisher” column."
      ]
    },
    {
      "cell_type": "code",
      "metadata": {
        "colab": {
          "base_uri": "https://localhost:8080/"
        },
        "id": "aoO1bimwqbab",
        "outputId": "d9ca9594-4306-4491-c93c-b66776620df1"
      },
      "source": [
        "#Solution:\n",
        "# A function to count how many times a value appears in a particular column \n",
        "# a. Count how many times “1785” appears in “Publication date (standardised)” column.\n",
        "# b. Count how many times “Penguin Books” appears in the “Publisher” column.\n",
        "\n",
        "def count_Frequency(search_row, name):\n",
        "  import csv\n",
        "  count=0\n",
        "  with open('bl_printed_music_500.csv', newline='', encoding=\"utf-8-sig\") as csvfile:\n",
        "    reader = csv.DictReader(csvfile) \n",
        "    for row in reader:  \n",
        "      if row[search_row]== name:\n",
        "        count=count+1           \n",
        "    return (count)\n",
        "\n",
        "result1 =count_Frequency('Publication date (standardised)', '1785')\n",
        "print('1785 exist: ', result1, 'times in Publication date (standardised) column' )\n",
        "\n",
        "result2 = count_Frequency('Publisher', 'Penguin Books' )\n",
        "print('Penguin Books exit: ', result2, 'times in Publisher column')\n"
      ],
      "execution_count": 9,
      "outputs": [
        {
          "output_type": "stream",
          "text": [
            "1785 exist:  10 times in Publication date (standardised) column\n",
            "Penguin Books exit:  1 times in Publisher column\n"
          ],
          "name": "stdout"
        }
      ]
    },
    {
      "cell_type": "markdown",
      "metadata": {
        "id": "vo6Lvvs0-i7N"
      },
      "source": [
        "**1.5** Create a function to count the number of occurrences each record appears in a list and return the results as a dictionary or as a list.  [3 marks].\n",
        "\n",
        "\n",
        "For example, consider the following list as input in your function:\n",
        "\n",
        "\n",
        "**Input** [“Mary”, “Chris”, “Alex”, “Mary”], \n",
        "\n",
        "\n",
        "**Output** could be {‘Mary’:2, ‘Chris’:1, “Alex”:1} \n",
        "\n",
        "\n",
        "**Or** [ [‘Mary’,2], [‘Chris’:1], [‘Alex’:1] ] \n",
        "\n",
        "\n",
        "**Or** as two lists: [‘Mary’, ‘Chris’, ’Alex’] and [2,1,1]."
      ]
    },
    {
      "cell_type": "code",
      "metadata": {
        "colab": {
          "base_uri": "https://localhost:8080/"
        },
        "id": "k5VL0KD6-dyq",
        "outputId": "595ce527-24e6-4566-91fb-5d2096100632"
      },
      "source": [
        "#Solution:\n",
        "# A function to count the number of occurrences each record appearance in a list \n",
        "# Return the results as a dictionary as a list.\n",
        "\n",
        "counts = {} # Create an empty dictionary\n",
        "\n",
        "def countOccurence():\n",
        "  #counts = {} # Create an empty dictionary\n",
        "  names = ['Mary','Chris', 'Alex', 'Mary'] # This is our list\n",
        "  for name in names:\n",
        "    if name not in counts: \n",
        "       counts[name] = 1 # Initialise the counter per key to 1, each time we find it\n",
        "    else:\n",
        "        counts[name] = counts[name] + 1 # Each time there is a key and is already in my dictionary\n",
        "                                        # Increase the counter by 1\n",
        "        print(counts)\n",
        "countOccurence()"
      ],
      "execution_count": 18,
      "outputs": [
        {
          "output_type": "stream",
          "text": [
            "{'Mary': 2, 'Chris': 1, 'Alex': 1}\n"
          ],
          "name": "stdout"
        }
      ]
    },
    {
      "cell_type": "code",
      "metadata": {
        "id": "MlnS0yEJTcWM",
        "outputId": "6cc59960-82f1-49d9-871f-4e37e2b8ee97",
        "colab": {
          "base_uri": "https://localhost:8080/"
        }
      },
      "source": [
        "for x,y in counts.items():\n",
        "  print(y)"
      ],
      "execution_count": 19,
      "outputs": [
        {
          "output_type": "stream",
          "text": [
            "2\n",
            "1\n",
            "1\n"
          ],
          "name": "stdout"
        }
      ]
    },
    {
      "cell_type": "markdown",
      "metadata": {
        "id": "avebIw5N-wQt"
      },
      "source": [
        "**1.6**   Plot the results of question 1.5, using bar plots of the appropriate Python library.  [3 marks].\n",
        "\n",
        "\n",
        "\n",
        "\n"
      ]
    },
    {
      "cell_type": "code",
      "metadata": {
        "id": "QEfVFffw-vzr",
        "colab": {
          "base_uri": "https://localhost:8080/",
          "height": 268
        },
        "outputId": "d3122c5c-2762-4ad8-9704-40e33dcbe37f"
      },
      "source": [
        "#Solution:\n",
        "#Plot the results of question 1.5, using bar plots of the appropriate Python library : matplotlib.pyplot as plt\n",
        "\n",
        "import matplotlib.pyplot as plt\n",
        "\n",
        "for x,y in counts.items():\n",
        "  plt.scatter(x, y, label='heights')\n",
        "  \n",
        "  \n",
        "plt.ylim(0, 10)\n",
        "\n",
        "# Add a legend\n",
        "plt.legend()\n",
        "\n",
        "# Show the plot\n",
        "plt.show()\n",
        "  "
      ],
      "execution_count": 17,
      "outputs": [
        {
          "output_type": "display_data",
          "data": {
            "image/png": "[encoded data removed]",
            "text/plain": [
              "<Figure size 432x288 with 1 Axes>"
            ]
          },
          "metadata": {
            "tags": [],
            "needs_background": "light"
          }
        }
      ]
    },
    {
      "cell_type": "markdown",
      "metadata": {
        "id": "_cvPpDyW-4O2"
      },
      "source": [
        "**1.7**  Create a function to count, how many empty records exist in a given column [3 marks]. \n",
        "For example, the code should work for both cases:\n",
        "\n",
        "**a.** How many empty records in “Composer”?\n",
        "\n",
        "**b.** How many empty records in “Composer life dates”?"
      ]
    },
    {
      "cell_type": "code",
      "metadata": {
        "id": "lgbh9THK-_As",
        "colab": {
          "base_uri": "https://localhost:8080/"
        },
        "outputId": "db5a6758-33e1-4633-ae32-1a83129cf54e"
      },
      "source": [
        "#Solution:\n",
        "#A function to count, how many empty records exist in a given column. \n",
        "def count_Empty_Rows(search_row):\n",
        "  import csv\n",
        "  count=0\n",
        "  with open('bl_printed_music_500.csv', newline='', encoding=\"utf-8-sig\") as csvfile:\n",
        "    reader = csv.DictReader(csvfile) \n",
        "    for row in reader:  \n",
        "      if row[search_row]=='':\n",
        "        count=count+1\n",
        "                \n",
        "    return(count)\n",
        "\n",
        "result1 = count_Empty_Rows('Composer')\n",
        "result2 = count_Empty_Rows('Composer life dates')\n",
        "\n",
        "print('Empty record in Composer:', result1)\n",
        "print('Empty record in Composer life dates:', result2)\n"
      ],
      "execution_count": null,
      "outputs": [
        {
          "output_type": "stream",
          "text": [
            "Empty record in Composer: 39\n",
            "Empty record in Composer life dates: 339\n"
          ],
          "name": "stdout"
        }
      ]
    },
    {
      "cell_type": "markdown",
      "metadata": {
        "id": "Zbfl0ZG2_DRU"
      },
      "source": [
        "**1.8** Create a function to replace empty records of the “Publication date (not standardised)”, with the appropriate value from the “Publication date (standardised)”. The result should be returned as a new list"
      ]
    },
    {
      "cell_type": "code",
      "metadata": {
        "id": "MUc1ScG__FzN",
        "colab": {
          "base_uri": "https://localhost:8080/"
        },
        "outputId": "d1755597-0cc7-406e-cdac-fda89f3d805d"
      },
      "source": [
        "#Solution:\n",
        "#A function to replace empty records of the “Publication date (not standardised)”, \n",
        "# with the appropriate value from the “Publication date (standardised)”. \n",
        "# The result should be returned as a new list\n",
        "import csv\n",
        "def replace_Empty_Record():\n",
        "  with open('bl_printed_music_500.csv', newline='', encoding=\"utf-8-sig\") as csvfile:\n",
        "    reader = csv.DictReader(csvfile)\n",
        "    mylist =[]\n",
        "    #count =0\n",
        "    \n",
        "    for row in reader:\n",
        "      if row['Publication date (not standardised)'] == '': # Check if the column is empty\n",
        "\n",
        "        # Assign row['Publication date (standardised) to row['Publication date (not standardised)']']\n",
        "        row['Publication date (not standardised)'] = row['Publication date (standardised)']\n",
        "        #mylist.append([row['Publication date (not standardised)'] = row['Publication date (standardised)']])\n",
        "       \n",
        "        # Append row['Publication date (not standardised)'] to mylist\n",
        "        mylist.append(row[\"Publication date (not standardised)\"]) \n",
        "        #count+=1\n",
        "    return (mylist)\n",
        "       \n",
        "#Test: Function call without parameter\n",
        "print(replace_Empty_Record())"
      ],
      "execution_count": 70,
      "outputs": [
        {
          "output_type": "stream",
          "text": [
            "['1982', '1785', '1785', '1761', '1860', '', '1903', '1909', '1912', '1853', '1881', '', '1763', '1796', '1767', '', '1873']\n"
          ],
          "name": "stdout"
        }
      ]
    },
    {
      "cell_type": "markdown",
      "metadata": {
        "id": "_9bI9-MN_VuT"
      },
      "source": [
        "**1.9** Create a function to calculate the proportion (in percentage) of a value in a particular column\n",
        "\n",
        "For example, what is the proportion of 1857 (in percentage) in the Publication date (standardised)? The result should calculate both cases:\n",
        "\n",
        "**i.** Inclusive empty cells\n",
        "\n",
        "**ii.** Exclusive empty cells\n",
        "\n",
        "**b. **A return example could be [1857, 0.07, 0.10], that means 1857 exists 7% in the dataset considering empty cells and 10% without considering empty cells."
      ]
    },
    {
      "cell_type": "code",
      "metadata": {
        "colab": {
          "base_uri": "https://localhost:8080/"
        },
        "id": "06Jo5HVqy0WO",
        "outputId": "9f237000-be3a-49bc-ca56-e3ddb1c3bac3"
      },
      "source": [
        "# A two step solution:\n",
        "# A function to calculate the proportion (in percentage) of a value in a particular column\n",
        "# For example, what is the proportion of 1857 (in percentage) in the Publication date (standardised)? \n",
        "\n",
        "# The result should calculate two cases:\n",
        "\n",
        "# i.Inclusive empty cells\n",
        "# ii. Exclusive empty cells\n",
        "\n",
        "#Case i: Inclusive empty cells\n",
        "# Return [1857, 0.81], means 1857 exists 0.81% in the dataset considering empty cells \n",
        "\n",
        "import csv\n",
        "def proportion(date,column,filename):\n",
        "    count = 0\n",
        "    countall = 0\n",
        "    with open(filename, newline='', encoding=\"utf-8-sig\") as csvfile:\n",
        "        reader = csv.DictReader(csvfile)\n",
        "        for row in reader: \n",
        "            if row[column] != '': \n",
        "                if row[column] == date:\n",
        "                    count = count+1\n",
        "                countall=countall+1\n",
        "    return(round(count/countall *100,2)) \n",
        "\n",
        "date = '1857'\n",
        "print([date, str(proportion(date,'Publication date (standardised)','bl_printed_music_500.csv'))])   "
      ],
      "execution_count": null,
      "outputs": [
        {
          "output_type": "stream",
          "text": [
            "['1857', '0.81']\n"
          ],
          "name": "stdout"
        }
      ]
    },
    {
      "cell_type": "code",
      "metadata": {
        "colab": {
          "base_uri": "https://localhost:8080/"
        },
        "id": "zCxJgisgu4lS",
        "outputId": "51671a26-a05d-42bf-b7df-3e16f0012413"
      },
      "source": [
        "# Case ii.Inclusive empty cells\n",
        "# Return [1857, 0.16], means 1857 exists 0.16% without considering empty cells\n",
        "\n",
        "import csv\n",
        "def proportion(date,column,filename):\n",
        "    count = 0\n",
        "    countall = 0\n",
        "    with open(filename, newline='', encoding=\"utf-8-sig\") as csvfile:\n",
        "        reader = csv.DictReader(csvfile)\n",
        "        for row in reader: \n",
        "            if row[column] == '': # Considering empty cells\n",
        "                if row[column] == date:\n",
        "                     count = count+1\n",
        "              #  print(count)\n",
        "                countall=countall+1\n",
        "    #return(round(count/countall *100,2)) \n",
        "    return(round(countall/100 *4,2)) \n",
        "\n",
        "date = '1857'\n",
        "print([date, str(proportion(date,'Publication date (standardised)','bl_printed_music_500.csv'))])  "
      ],
      "execution_count": 71,
      "outputs": [
        {
          "output_type": "stream",
          "text": [
            "['1857', '0.16']\n"
          ],
          "name": "stdout"
        }
      ]
    },
    {
      "cell_type": "markdown",
      "metadata": {
        "id": "MMEtkJvt_h4B"
      },
      "source": [
        "**1.10**  Create a function to search if a given text exists in a title. If the value exists, then the function should return the number of records that this phrase exists, in any other case should return False .  [3 marks].\n",
        "\n",
        "\n",
        "For example: Is there a keyword “Sinfonia” in the “Title”? If so, how many titles include the keyword “Simfonia”?"
      ]
    },
    {
      "cell_type": "code",
      "metadata": {
        "id": "UzKfzisG_m8X",
        "colab": {
          "base_uri": "https://localhost:8080/"
        },
        "outputId": "166ff20c-a108-46c0-c895-b61ec01e455a"
      },
      "source": [
        "#Solution:\n",
        "# A function to search if a given text exists in a title. If the value exists, \n",
        "# Then the function should return the number of records that this phrase exists, \n",
        "# In any other case should return False\n",
        "\n",
        "\n",
        "# Search keyword “Sinfonia” in the “Title”? If so, how many titles include the keyword “Simfonia”?\n",
        "import csv\n",
        "def searchKeyWord(myfile, title, keyword):\n",
        "  with open(myfile, newline='', encoding=\"utf-8-sig\") as csvfile:\n",
        "    count = 0\n",
        "    found =False\n",
        "    reader = csv.DictReader(csvfile)\n",
        "\n",
        "\n",
        "    for row in reader:\n",
        "      if keyword in row[title]: # Search keyword in title\n",
        "        print(row[title])\n",
        "        count+=1\n",
        "        found =True\n",
        "\n",
        "        print( keyword, 'exist!')\n",
        "        print()\n",
        "        return(found, count )\n",
        "    return(False)\n",
        "\n",
        "#Test call\n",
        "searchKeyWord('bl_printed_music_500.csv','Title','Sinfonia')"
      ],
      "execution_count": null,
      "outputs": [
        {
          "output_type": "stream",
          "text": [
            "Sinfonia xvi. [In D.] [Parts.]\n",
            "Sinfonia exist!\n",
            "\n"
          ],
          "name": "stdout"
        },
        {
          "output_type": "execute_result",
          "data": {
            "text/plain": [
              "(True, 1)"
            ]
          },
          "metadata": {
            "tags": []
          },
          "execution_count": 45
        }
      ]
    },
    {
      "cell_type": "markdown",
      "metadata": {
        "id": "2fT6V5ft_szE"
      },
      "source": [
        "**1.11**  Create a function to extract data to a new csv file. The function should accept three arguments that are the names of the following columns “Composer”,“Publication year (standardised)”, “Place of publication” and should apply the following rules\n",
        "\n",
        "a. Composer: Filter data such that we have only composers starting with “A”.\n",
        "\n",
        "b. Publication year (standardised): Data between 1600 and 1900.\n",
        "\n",
        "c. Publisher: All data except empty records."
      ]
    },
    {
      "cell_type": "code",
      "metadata": {
        "id": "7Xzi_iPM4LsI"
      },
      "source": [
        "#Solution:\n",
        "# Create a function to extract data to a new csv file. \n",
        "# The function accept three columns names\n",
        "\n",
        "#  Rules apply:\n",
        "#a. Composer: Filter data such that we have only composers starting with “A”.\n",
        "#b. Publication year (standardised): Data between 1600 and 1900.\n",
        "#c. Publisher: All data except empty records.\n",
        "\n",
        "import csv\n",
        "\n",
        "def getData(c1,c2,c3):    # The getData function accepts three arguments that are the names of the columns\n",
        "    templist = [[c1,c2,c3]] # This is a 2D temporary list, to store the exported data\n",
        "    \n",
        "    with open('bl_printed_music_500.csv', newline='', encoding=\"utf-8\") as csvfile:\n",
        "        reader = csv.DictReader(csvfile)\n",
        "        search_for = 'A'\n",
        "        for row in reader:\n",
        "            if row[c1]==row[c1].startswith(search_for): #  Filter data such that we have only composers starting with “A”\n",
        "              if int(row[c2])>= 1600 and int(row[c2])<=1900: # Filter Data between 1600 and 1900\n",
        "                if row[c3]!='': # Exclude empty data in the column\n",
        "                  templist.append([row[c1],row[c2],row[c3]])\n",
        "                print(templist)\n",
        "    return templist\n",
        "\n",
        "\n",
        "def writeData(c1,c2,c3):\n",
        "    data = getData(c1,c2,c3)\n",
        "    with open('newdata.csv', 'w+', encoding='utf-8',newline='' ) as myfile:\n",
        "        wr = csv.writer(myfile, delimiter=',')\n",
        "        wr.writerows(data)  # Create a new file called newdata.csv and we write the data\n",
        "\n",
        "#input1 = input('Enter Composer': )\n",
        "#input2 = input('Enter Publication year (standardised):' )\n",
        "#input3 = input('Enter Publisher: ')\n",
        "#writeData(input1,input2,input3)\n",
        "\n",
        "# test calls\n",
        "getData('Composer','Publication year (standardised)','Publisher')\n",
        "writeData('Composer','Publication year (standardised)','Publisher')\n",
        "\n"
      ],
      "execution_count": 72,
      "outputs": []
    },
    {
      "cell_type": "markdown",
      "metadata": {
        "id": "YpGfdX6Uh5jx"
      },
      "source": [
        "\n",
        "#Section II (5 marks)\n",
        "Develop basic searching functions using the “bl_printed_music_500.csv”.\n"
      ]
    },
    {
      "cell_type": "markdown",
      "metadata": {
        "id": "OGqul4UvSdja"
      },
      "source": [
        "**2.1** Develop a linear search function to search for a key in “Publication date (standardised)”.\n",
        "\n",
        "Exclude the empty records. The function should return “False” if the value does not exist, otherwise should return “True” along with the number of iterations to find it [2 marks]. \n",
        "\n",
        "• For example: Search for key 1539, the function should return [True, 2], this means that the value exists and that the program needs 2 operations/iterations to find it."
      ]
    },
    {
      "cell_type": "code",
      "metadata": {
        "colab": {
          "base_uri": "https://localhost:8080/"
        },
        "id": "uNsmqJwaX70y",
        "outputId": "ff2f120b-f7ad-4d95-a94c-995c2bba2810"
      },
      "source": [
        "# Solution: \n",
        "# A linear search function to search for a key in the record.\n",
        "# The function should return “False” if the value does not exist, \n",
        "# Otherwise should return “True” along with the number of iterations to find it\n",
        "import csv\n",
        "\n",
        "def linear_Search(col, key):\n",
        "   with open('bl_printed_music_500.csv', newline='', encoding=\"utf-8-sig\") as csvfile:\n",
        "      reader = csv.DictReader(csvfile)\n",
        "      count=0\n",
        "      found =False\n",
        "\n",
        "      for row in reader: \n",
        "        if row[col] != '' and row[col]==key:\n",
        "            count+=1\n",
        "            found = True\n",
        "      return ([found, count])\n",
        "\n",
        "      #return found\n",
        "       \n",
        "    \n",
        "\n",
        "#linear_Search('Publication date (standardised)', '1539')\n",
        "linear_Search('Publication date (standardised)', '1785')\n",
        "#linear_Search('Publication date (standardised)', '2021')"
      ],
      "execution_count": 93,
      "outputs": [
        {
          "output_type": "execute_result",
          "data": {
            "text/plain": [
              "[True, 10]"
            ]
          },
          "metadata": {
            "tags": []
          },
          "execution_count": 93
        }
      ]
    },
    {
      "cell_type": "markdown",
      "metadata": {
        "id": "2284rbIcSi7t"
      },
      "source": [
        "**2.2** Reuse the code given in class for the binary search function. Use the function to search for a “Publication date (standardised)” and exclude any empty records. The function should return “True” if the value exists or “False” if the value does not exist [1 mark]. "
      ]
    },
    {
      "cell_type": "code",
      "metadata": {
        "id": "sjVD8Yi-S4l7"
      },
      "source": [
        "# A three step solution:\n",
        "# FIRST STEP\n",
        "# Reuse the code given in class for the binary search function. \n",
        "import csv\n",
        "def binarySearch(arr, l, r, x): \n",
        "    while l <= r: \n",
        "  \n",
        "        mid = int(l + (r - l)/2) \n",
        "          \n",
        "        # Check if x is present at mid \n",
        "        if arr[mid] == x: \n",
        "            return True\n",
        "  \n",
        "        # If x is greater, ignore left half \n",
        "        elif arr[mid] < x: \n",
        "            l = mid + 1\n",
        "  \n",
        "        # If x is smaller, ignore right half \n",
        "        else: \n",
        "            r = mid - 1\n",
        "    # If we reach here, then the element \n",
        "    # was not present \n",
        "    return False\n"
      ],
      "execution_count": 94,
      "outputs": []
    },
    {
      "cell_type": "code",
      "metadata": {
        "colab": {
          "base_uri": "https://localhost:8080/"
        },
        "id": "Yln6j2zaYHpU",
        "outputId": "86b991b4-6983-426f-9eda-5a5946ce121f"
      },
      "source": [
        " \n",
        " # SECOND STEP\n",
        " # Get a list of Publication date (standardised), excluding any empty records\n",
        "\n",
        "with open('bl_printed_music_500.csv', newline='', encoding=\"utf-8-sig\") as csvfile:\n",
        "     reader = csv.DictReader(csvfile)\n",
        "     mylist = []\n",
        "     for row in reader:\n",
        "       if row['Publication date (standardised)'] != '' :\n",
        "         mylist.append(row['Publication date (standardised)']) \n",
        "         mylist.sort() #  Sort list\n",
        "print(mylist)"
      ],
      "execution_count": 95,
      "outputs": [
        {
          "output_type": "stream",
          "text": [
            "['1539', '1609', '1627', '1635', '1650', '1653', '1679', '1701', '1701', '1702', '1702', '1702', '1703', '1705', '1717', '1720', '1725', '1728', '1728', '1728', '1731', '1744', '1744', '1755', '1756', '1756', '1756', '1756', '1758', '1760', '1760', '1760', '1760', '1761', '1761', '1762', '1762', '1763', '1764', '1764', '1765', '1765', '1765', '1765', '1765', '1765', '1765', '1765', '1765', '1765', '1765', '1765', '1766', '1766', '1767', '1767', '1767', '1769', '1769', '1770', '1770', '1770', '1770', '1770', '1770', '1770', '1770', '1773', '1773', '1773', '1774', '1774', '1774', '1775', '1775', '1775', '1775', '1775', '1775', '1775', '1777', '1777', '1778', '1780', '1780', '1780', '1780', '1780', '1780', '1780', '1780', '1780', '1780', '1780', '1780', '1780', '1780', '1781', '1781', '1783', '1783', '1783', '1783', '1783', '1783', '1784', '1785', '1785', '1785', '1785', '1785', '1785', '1785', '1785', '1785', '1785', '1788', '1788', '1790', '1790', '1794', '1795', '1795', '1796', '1797', '1798', '1798', '1800', '1801', '1807', '1810', '1810', '1810', '1815', '1820', '1821', '1822', '1830', '1830', '1830', '1835', '1837', '1838', '1838', '1839', '1840', '1840', '1840', '1841', '1842', '1843', '1845', '1845', '1845', '1847', '1847', '1847', '1847', '1847', '1847', '1847', '1847', '1848', '1850', '1850', '1850', '1850', '1850', '1850', '1850', '1850', '1850', '1850', '1850', '1850', '1850', '1851', '1851', '1853', '1853', '1854', '1854', '1854', '1855', '1856', '1856', '1857', '1857', '1857', '1857', '1858', '1858', '1859', '1859', '1859', '1859', '1859', '1859', '1859', '1860', '1860', '1860', '1860', '1861', '1861', '1861', '1863', '1863', '1863', '1863', '1863', '1863', '1864', '1864', '1864', '1864', '1864', '1864', '1864', '1865', '1865', '1867', '1867', '1867', '1867', '1868', '1870', '1871', '1873', '1873', '1874', '1874', '1874', '1874', '1876', '1876', '1876', '1876', '1877', '1878', '1878', '1880', '1880', '1880', '1881', '1881', '1881', '1882', '1882', '1882', '1883', '1883', '1883', '1883', '1883', '1884', '1884', '1884', '1884', '1885', '1885', '1885', '1887', '1887', '1887', '1887', '1888', '1888', '1892', '1893', '1894', '1894', '1894', '1894', '1894', '1894', '1895', '1896', '1896', '1896', '1897', '1897', '1897', '1898', '1898', '1898', '1898', '1899', '1899', '1899', '1899', '1899', '1900', '1900', '1900', '1900', '1900', '1900', '1900', '1900', '1900', '1900', '1901', '1901', '1901', '1901', '1901', '1902', '1902', '1902', '1902', '1902', '1902', '1902', '1902', '1902', '1902', '1903', '1903', '1903', '1903', '1903', '1903', '1903', '1903', '1903', '1903', '1903', '1903', '1904', '1904', '1904', '1904', '1904', '1904', '1904', '1904', '1904', '1904', '1904', '1904', '1904', '1904', '1904', '1904', '1904', '1904', '1904', '1904', '1904', '1904', '1904', '1904', '1905', '1905', '1905', '1906', '1906', '1906', '1906', '1906', '1906', '1906', '1906', '1906', '1907', '1907', '1907', '1907', '1907', '1907', '1907', '1908', '1908', '1908', '1908', '1908', '1908', '1908', '1908', '1908', '1908', '1908', '1909', '1909', '1909', '1909', '1909', '1909', '1909', '1910', '1910', '1910', '1910', '1911', '1912', '1912', '1913', '1914', '1914', '1915', '1915', '1915', '1915', '1915', '1916', '1917', '1918', '1919', '1919', '1919', '1919', '1919', '1919', '1919', '1919', '1919', '1921', '1923', '1923', '1925', '1926', '1926', '1926', '1926', '1926', '1926', '1928', '1928', '1928', '1928', '1928', '1928', '1928', '1931', '1933', '1935', '1935', '1935', '1936', '1937', '1937', '1938', '1939', '1940', '1946', '1946', '1947', '1947', '1948', '1949', '1949', '1950', '1951', '1952', '1953', '1956', '1956', '1956', '1957', '1960', '1960', '1960', '1960', '1960', '1961', '1962', '1963', '1965', '1965', '1965', '1965', '1966', '1967', '1968', '1968', '1971', '1971', '1971', '1972', '1973', '1973', '1973', '1976', '1976', '1977', '1978', '1978', '1978', '1978', '1978', '1980', '1980', '1982', '2005']\n"
          ],
          "name": "stdout"
        }
      ]
    },
    {
      "cell_type": "code",
      "metadata": {
        "colab": {
          "base_uri": "https://localhost:8080/"
        },
        "id": "QmOkLg1iRNrF",
        "outputId": "7813e48c-fb58-41fa-97b4-c90799eeb712"
      },
      "source": [
        "# Test call\n",
        "# Code given in class for the binary search function\n",
        "year= '1539'\n",
        "low = 0\n",
        "high = len(mylist)-1\n",
        "print(binarySearch(mylist, low, high, year))"
      ],
      "execution_count": 96,
      "outputs": [
        {
          "output_type": "stream",
          "text": [
            "True\n"
          ],
          "name": "stdout"
        }
      ]
    },
    {
      "cell_type": "markdown",
      "metadata": {
        "id": "XdFeomMbS5WM"
      },
      "source": [
        "**2.3** Alter the code of Task 2.2 to calculate the number of iterations to find a given key using the\n",
        "binary search algorithm.\n",
        "• For example: If you search for year 2021, the function should return [True, 5],this means that the value exists and that the program needs 5 operations/iterations to find it [2 marks].\n"
      ]
    },
    {
      "cell_type": "code",
      "metadata": {
        "id": "kg9UUSyQPQO-"
      },
      "source": [
        "def BinarySearch(mylist, value):\n",
        "    l = 0\n",
        "    r= len(mylist)-1\n",
        "    count =0\n",
        "    found =False\n",
        "    index = -1\n",
        "    while (l <= r) and (index == -1):\n",
        "        count = count +1\n",
        "        mid = (l+r)//2\n",
        "        if mylist[mid] == value:\n",
        "            index = mid\n",
        "            found = True\n",
        "            return ([found, count])  \n",
        "        else:\n",
        "            if value< mylist[mid]:\n",
        "                r = mid -1\n",
        "            else:\n",
        "                l = mid +1\n",
        "              \n",
        "    return found\n",
        "  "
      ],
      "execution_count": 101,
      "outputs": []
    },
    {
      "cell_type": "code",
      "metadata": {
        "colab": {
          "base_uri": "https://localhost:8080/"
        },
        "id": "mp15o7NJUZaD",
        "outputId": "ae609733-09d2-4a16-a66b-9671897a8def"
      },
      "source": [
        "BinarySearch(mylist, '2021')\n",
        "BinarySearch(mylist, '1785')\n",
        "BinarySearch(mylist, '2005')"
      ],
      "execution_count": 105,
      "outputs": [
        {
          "output_type": "execute_result",
          "data": {
            "text/plain": [
              "[True, 9]"
            ]
          },
          "metadata": {
            "tags": []
          },
          "execution_count": 105
        }
      ]
    },
    {
      "cell_type": "markdown",
      "metadata": {
        "id": "EtvQYg-T1IFq"
      },
      "source": [
        "#Section III, (40 marks)\n",
        "\n"
      ]
    },
    {
      "cell_type": "markdown",
      "metadata": {
        "id": "3Re8ILkS7ZK6"
      },
      "source": [
        "Part 1: Consider the dataset as given in data_for_sql_task.xlsx file. Your task is to create a database using the MySQL command line to run the following queries. Each query should print the “Composer, Titles, Publication date (standardised), Place of publication and Publisher”"
      ]
    },
    {
      "cell_type": "code",
      "metadata": {
        "colab": {
          "base_uri": "https://localhost:8080/"
        },
        "id": "aZCCmTeROtJ9",
        "outputId": "a8329fd8-1093-4f9a-d86e-9d5ba490044b"
      },
      "source": [
        "#Solution:\n",
        "# The following lists are the dataset, as given in data_for_sql_task.xlsx file\n",
        "\n",
        "bl_record_ID = [4162443, 4162459,4162460, 4162461, 4162494,4162495, 4162510,4162545,4162578,4162621,4162622,4162651, 4162652,4162653,4162654,4162611, 4162612,4162779,4162780]\n",
        "\n",
        "composer = ['S. A.' , 'Aarons, Alfred E.', 'Aarons, Alfred E.',  'Aarons, Alfred E.',\n",
        "            'Aarons, Alfred E.','Aarons, Alfred E.', 'Aarons, Sam', 'Abadie, Louis', \n",
        "            'Abbate, Charles', 'Abbott, Jane Bingham', 'Abbott, Jane Bingham' , \n",
        "            'Abdey, Alfred William', 'Abdey, Alfred William', 'A''becket, Percy', \n",
        "            'A''becket, Thomas', 'Abbott, Edwin B.', 'Abbott, Edwin B.',\n",
        "            'Abel, Karl Friedrich', 'Abel, Karl Friedrich' ]\n",
        "\n",
        "composer_life_dates = ['', '', '', '', '', '', '', '', '', '', '', '','', '', '',\n",
        "                       '1881 or 1882-1956', '1881 or 1882-1956', '1723-1787', '1723-1787' ]\n",
        "\n",
        "title = ['Short Pieces and Hymn Tunes.', 'A China Doll. Act i.','A China Doll.', \n",
        "        'The butterfly and the clover.', 'It s a andy thing to ave about the ouse ...',\n",
        "        'Rob Roy Tam O Shanter O Brien ... [Song.]','The East End Aristocracy … ',\n",
        "         'L Amoureux de Pontoise.','Southern Nights. [Song.]','Alone with God. [Song.]',\n",
        "         'Just for today. Sacred Song ','Pam the Wonder-Child. ','Te Deum in G ', \n",
        "         'I was there with á¹ ine.','Columbia, the Gem of the Ocean. ',\n",
        "        'Harbour of Dreams … ','Love s Voice divine … ','Six Simphonies ...', \n",
        "          'Symphonie op. vii, No.6']\n",
        "\n",
        "publication_date_standardised = [1915, 1904, 1904, 1904, 1900, 1900, 1907, 1850,\n",
        "                                 1915,1903,1894, 1926,1908,1894,1948,1919,1919,1780,1976]\n",
        "\n",
        "publication_date_not_standardised =[1915, 1904, 1904, 1904, 1900, 1900, 1907, 1850,\n",
        "                                 1915,1903,1894, 1926,1908,1894,1948,1919,1919,1780,1976]\n",
        "\n",
        "place_of_publication = ['London', 'New York' , 'New York' , 'New York', 'New York, Chicago',\n",
        "                        'New York, Chicago','London', 'Paris', 'New York', 'Chicago', 'Chicago', 'London',\n",
        "                        '', 'London', 'New York', 'Saint Paul, Minn', 'Saint Paul, Minn', 'London', 'Basel' ]\n",
        "\n",
        "publisher =['Joseph Williams', 'M Witmark & Sons', 'M Witmark & Sons', 'M Witmark & Sons', \n",
        "            'M Witmark & Sons', 'M Witmark & Sons', 'London Printing Press', 'F Gauvin', \n",
        "            'Shapiro, Bernstein & Co', 'C F Summy Co', 'C F Summy Co', \n",
        "            'The Stage Play Publishing Bureau', '', 'Francis, Day & Hunter', 'Harold Flammer',\n",
        "            'W J Dyer & Bro', 'W J Dyer & Bro', 'Printed for the Author', 'Edition Kneusslin']\n",
        "\n",
        "print('LISTS READY : DATA TO BE INSERTED IN THE COMPOSERS TABLE IN THE DATABASE')"
      ],
      "execution_count": null,
      "outputs": [
        {
          "output_type": "stream",
          "text": [
            "LISTS READY : DATA TO BE INSERTED IN THE COMPOSERS TABLE IN THE DATABASE\n"
          ],
          "name": "stdout"
        }
      ]
    },
    {
      "cell_type": "markdown",
      "metadata": {
        "id": "q2dWszSi6DrP"
      },
      "source": [
        "3.1 Provide the SQL command to create a new table for the given dataset [2 marks]"
      ]
    },
    {
      "cell_type": "code",
      "metadata": {
        "colab": {
          "base_uri": "https://localhost:8080/"
        },
        "id": "kJi9_W96zoLq",
        "outputId": "f788a360-fd7d-49fa-8a34-98fd63ed0ef6"
      },
      "source": [
        "#Solution:\n",
        "\n",
        "import sqlite3\n",
        "import pandas as pd\n",
        "\n",
        "# connecting the database\n",
        "conn = sqlite3.connect('db.db')\n",
        "\n",
        "#Reading the excel file\n",
        "#myfile = pd.read_excel('/content/data_for_sql_task.xlsx',sheet_name = None)\n",
        "cursor = conn.cursor()\n",
        "\n",
        "cursor.execute('DROP TABLE IF EXISTS composers')\n",
        "#Creating new composers table \n",
        "cursor.execute('CREATE TABLE composers( BL_record_ID INTEGER PRIMARY KEY, Composer TEXT, Composer_life_dates TEXT, Title TEXT, Publication_date_standardised TEXT, Publication_date_not_standardised INTEGER, Place_of_publication TEXT, Publisher TEXT)')\n"
      ],
      "execution_count": null,
      "outputs": [
        {
          "output_type": "execute_result",
          "data": {
            "text/plain": [
              "<sqlite3.Cursor at 0x7fa74d99bf80>"
            ]
          },
          "metadata": {
            "tags": []
          },
          "execution_count": 62
        }
      ]
    },
    {
      "cell_type": "markdown",
      "metadata": {
        "id": "MeHgpfLh8J-d"
      },
      "source": [
        "3.2 Provide the SQL commands to insert given data to the table [2 marks]."
      ]
    },
    {
      "cell_type": "code",
      "metadata": {
        "id": "GLFsGOp88is1",
        "colab": {
          "base_uri": "https://localhost:8080/"
        },
        "outputId": "0bd24549-3145-488b-e0f1-3a4e4bcc5b45"
      },
      "source": [
        "#Solution\n",
        "#SQL commands to insert given data to the table\n",
        "print('INSERTED DATA AUTOMATICALLY, FROM LISTS TO NEWLY CREATED COMPOSERS TABLE DATABASE')\n",
        "for i in range(len(composer)):\n",
        "  cursor.execute('''INSERT INTO composers( BL_record_ID, Composer, Composer_life_dates, Title, Publication_date_standardised, Publication_date_not_standardised, Place_of_publication, Publisher)\n",
        "  VALUES(?,?,?,?,?,?,?,?)''', (bl_record_ID[i], composer[i], composer_life_dates[i], title[i], publication_date_standardised[i], publication_date_not_standardised[i], place_of_publication[i], publisher[i]))\n"
      ],
      "execution_count": null,
      "outputs": [
        {
          "output_type": "stream",
          "text": [
            "INSERTED DATA AUTOMATICALLY, FROM LISTS TO NEWLY CREATED COMPOSERS TABLE DATABASE\n"
          ],
          "name": "stdout"
        }
      ]
    },
    {
      "cell_type": "markdown",
      "metadata": {
        "id": "bWZPlooM2ICf"
      },
      "source": [
        "3.3 Provide an SQL query to search for “Publication date (standardised)” for year 1900. [2 marks]"
      ]
    },
    {
      "cell_type": "code",
      "metadata": {
        "id": "UIX4rcSFOivU",
        "colab": {
          "base_uri": "https://localhost:8080/"
        },
        "outputId": "2b33f147-d02f-4a68-afb9-1bacbca1162d"
      },
      "source": [
        "# Solution\n",
        "cursor.execute('''SELECT * FROM composers WHERE publication_date_standardised LIKE ? ''',('1900%',))\n",
        "all_rows = cursor.fetchall()\n",
        "\n",
        "#print(cursor.fetchall)\n",
        "for row in all_rows:\n",
        "    print(row)\n",
        " \n",
        " "
      ],
      "execution_count": null,
      "outputs": [
        {
          "output_type": "stream",
          "text": [
            "(4162494, 'Aarons, Alfred E.', '', 'It s a andy thing to ave about the ouse ...', '1900', 1900, 'New York, Chicago', 'M Witmark & Sons')\n",
            "(4162495, 'Aarons, Alfred E.', '', 'Rob Roy Tam O Shanter O Brien ... [Song.]', '1900', 1900, 'New York, Chicago', 'M Witmark & Sons')\n"
          ],
          "name": "stdout"
        }
      ]
    },
    {
      "cell_type": "markdown",
      "metadata": {
        "id": "qfPsgFG02kVi"
      },
      "source": [
        "3.4 Provide an SQL query to search for “Place of publication” to be London or “Basel” [2 marks]."
      ]
    },
    {
      "cell_type": "code",
      "metadata": {
        "colab": {
          "base_uri": "https://localhost:8080/"
        },
        "id": "5U2gVYaC_Kn_",
        "outputId": "912d9473-2dec-4d54-fd18-a7868bd8580b"
      },
      "source": [
        "cursor.execute('''SELECT * FROM composers WHERE place_of_publication IN ('London', 'Basel') ''')\n",
        "all_rows = cursor.fetchall()\n",
        "\n",
        "for row in all_rows:\n",
        "  print('{0} : {1}, {2}, {3}, {4}, {5}, {6}, {7}'.format(row[0], row[1], row[2], row[3], row[4], row[5], row[6], row[7]))\n"
      ],
      "execution_count": null,
      "outputs": [
        {
          "output_type": "stream",
          "text": [
            "4162443 : S. A., , Short Pieces and Hymn Tunes., 1915, 1915, London, Joseph Williams\n",
            "4162510 : Aarons, Sam, , The East End Aristocracy … , 1907, 1907, London, London Printing Press\n",
            "4162651 : Abdey, Alfred William, , Pam the Wonder-Child. , 1926, 1926, London, The Stage Play Publishing Bureau\n",
            "4162653 : Abecket, Percy, , I was there with á¹ ine., 1894, 1894, London, Francis, Day & Hunter\n",
            "4162779 : Abel, Karl Friedrich, 1723-1787, Six Simphonies ..., 1780, 1780, London, Printed for the Author\n",
            "4162780 : Abel, Karl Friedrich, 1723-1787, Symphonie op. vii, No.6, 1976, 1976, Basel, Edition Kneusslin\n"
          ],
          "name": "stdout"
        }
      ]
    },
    {
      "cell_type": "markdown",
      "metadata": {
        "id": "W22XaNTd2vJA"
      },
      "source": [
        "3.5 Provide an SQL query to count how many Composers are in the dataset [2 marks]."
      ]
    },
    {
      "cell_type": "code",
      "metadata": {
        "id": "jEddI5EX1t-p",
        "colab": {
          "base_uri": "https://localhost:8080/"
        },
        "outputId": "9d9bd46d-b969-48aa-b117-7ad3e07bd182"
      },
      "source": [
        "# Solution\n",
        "cursor.execute(\"SELECT count(Composer) FROM composers\")\n",
        "result = cursor.fetchall()\n",
        "print(result)"
      ],
      "execution_count": null,
      "outputs": [
        {
          "output_type": "stream",
          "text": [
            "[(19,)]\n"
          ],
          "name": "stdout"
        }
      ]
    },
    {
      "cell_type": "markdown",
      "metadata": {
        "id": "DW1SOM_O27Aw"
      },
      "source": [
        "3.6 Provide an SQL query to calculate the average of the years in “Publication date (standardised)” [2 marks]."
      ]
    },
    {
      "cell_type": "code",
      "metadata": {
        "id": "6Fwm1im41ylI",
        "colab": {
          "base_uri": "https://localhost:8080/"
        },
        "outputId": "083384f9-86b1-4afb-df08-d22a4fd9958f"
      },
      "source": [
        "# Solution\n",
        "cursor.execute('SELECT AVG(publication_date_standardised) FROM composers')\n",
        "print(cursor.fetchone())"
      ],
      "execution_count": null,
      "outputs": [
        {
          "output_type": "stream",
          "text": [
            "(1903.4736842105262,)\n"
          ],
          "name": "stdout"
        }
      ]
    },
    {
      "cell_type": "markdown",
      "metadata": {
        "id": "z0IA6ov13X_v"
      },
      "source": [
        "3.7 Provide an SQL query to count how many times 1976 appears in the “Publication date (standardised)” [3 marks]"
      ]
    },
    {
      "cell_type": "code",
      "metadata": {
        "id": "wS-wFypz2ztc",
        "colab": {
          "base_uri": "https://localhost:8080/"
        },
        "outputId": "28b06cba-a52a-4f43-9772-58a068ff61ad"
      },
      "source": [
        "#Solution\n",
        "#SQL query to count how many times 1976 appears in the “Publication date (standardised)”\n",
        "cursor.execute('''SELECT publication_date_standardised, count(*) as count FROM composers WHERE publication_date_standardised LIKE ? ''',('1976%',))\n",
        "result= cursor.fetchall()\n",
        "\n",
        "for row in result:\n",
        "    print('{0} : {1}'.format(row[0], row[1]))\n",
        " \n",
        "#SQL query to count how many times each year appears in the “Publication date (standardised) \n",
        "#cursor.execute('select publication_date_standardised, count(publication_date_standardised) as count FROM composers GROUP BY publication_date_standardised')\n",
        "#print(cursor.fetchall())\n"
      ],
      "execution_count": null,
      "outputs": [
        {
          "output_type": "stream",
          "text": [
            "1976 : 1\n"
          ],
          "name": "stdout"
        }
      ]
    },
    {
      "cell_type": "markdown",
      "metadata": {
        "id": "7iiTuYwT3i6a"
      },
      "source": [
        "3.8  Provide an SQL query to count the occurrences of titles per “Publication date (standardised)” [3 marks]."
      ]
    },
    {
      "cell_type": "code",
      "metadata": {
        "colab": {
          "base_uri": "https://localhost:8080/"
        },
        "id": "R39gWeVd-4ta",
        "outputId": "91cec9de-30c9-424e-b0ce-21640efd83f5"
      },
      "source": [
        "#Solution \n",
        "# Count the occurrence of individual titles per “Publication date (standardised)”\n",
        "# GROUP BY title'\n",
        "cursor.execute('select title, publication_date_standardised, count(*) as count FROM composers GROUP BY title')\n",
        "result = cursor.fetchall()\n",
        "for row in result:\n",
        "  print(row)"
      ],
      "execution_count": null,
      "outputs": [
        {
          "output_type": "stream",
          "text": [
            "('A China Doll.', '1904', 1)\n",
            "('A China Doll. Act i.', '1904', 1)\n",
            "('Alone with God. [Song.]', '1903', 1)\n",
            "('Columbia, the Gem of the Ocean. ', '1948', 1)\n",
            "('Harbour of Dreams … ', '1919', 1)\n",
            "('I was there with á¹ ine.', '1894', 1)\n",
            "('It s a andy thing to ave about the ouse ...', '1900', 1)\n",
            "('Just for today. Sacred Song ', '1894', 1)\n",
            "('L Amoureux de Pontoise.', '1850', 1)\n",
            "('Love s Voice divine … ', '1919', 1)\n",
            "('Pam the Wonder-Child. ', '1926', 1)\n",
            "('Rob Roy Tam O Shanter O Brien ... [Song.]', '1900', 1)\n",
            "('Short Pieces and Hymn Tunes.', '1915', 1)\n",
            "('Six Simphonies ...', '1780', 1)\n",
            "('Southern Nights. [Song.]', '1915', 1)\n",
            "('Symphonie op. vii, No.6', '1976', 1)\n",
            "('Te Deum in G ', '1908', 1)\n",
            "('The East End Aristocracy … ', '1907', 1)\n",
            "('The butterfly and the clover.', '1904', 1)\n"
          ],
          "name": "stdout"
        }
      ]
    },
    {
      "cell_type": "markdown",
      "metadata": {
        "id": "N2wi55-n3xog"
      },
      "source": [
        "3.9 Provide an SQL query to search for New York as “Place of publication” [3 marks]."
      ]
    },
    {
      "cell_type": "code",
      "metadata": {
        "id": "Z9jfyakO327Y",
        "colab": {
          "base_uri": "https://localhost:8080/"
        },
        "outputId": "685171f9-3510-4a64-e7b4-6b1b1874676c"
      },
      "source": [
        "#Solution\n",
        "cursor.execute('''select * from composers WHERE place_of_publication = 'New York' ''')\n",
        "result = (cursor.fetchall())\n",
        "for i in result:\n",
        "  print(i)"
      ],
      "execution_count": null,
      "outputs": [
        {
          "output_type": "stream",
          "text": [
            "(4162459, 'Aarons, Alfred E.', '', 'A China Doll. Act i.', '1904', 1904, 'New York', 'M Witmark & Sons')\n",
            "(4162460, 'Aarons, Alfred E.', '', 'A China Doll.', '1904', 1904, 'New York', 'M Witmark & Sons')\n",
            "(4162461, 'Aarons, Alfred E.', '', 'The butterfly and the clover.', '1904', 1904, 'New York', 'M Witmark & Sons')\n",
            "(4162578, 'Abbate, Charles', '', 'Southern Nights. [Song.]', '1915', 1915, 'New York', 'Shapiro, Bernstein & Co')\n",
            "(4162654, 'Abecket, Thomas', '', 'Columbia, the Gem of the Ocean. ', '1948', 1948, 'New York', 'Harold Flammer')\n"
          ],
          "name": "stdout"
        }
      ]
    },
    {
      "cell_type": "markdown",
      "metadata": {
        "id": "qCbeVRpW37c6"
      },
      "source": [
        "3.10 Provide an SQL query to search for publishers that start with letter “M” [3 marks]."
      ]
    },
    {
      "cell_type": "code",
      "metadata": {
        "id": "1xEkBqfS4Ab4",
        "colab": {
          "base_uri": "https://localhost:8080/"
        },
        "outputId": "65546916-b65d-40fa-d070-dc4bc9c0e311"
      },
      "source": [
        "cursor.execute('''SELECT * FROM composers WHERE publisher LIKE ? ''',('M%',))\n",
        "result = cursor.fetchall()\n",
        "\n",
        "#print(cursor.fetchall)\n",
        "for row in result:\n",
        "    print(row)"
      ],
      "execution_count": null,
      "outputs": [
        {
          "output_type": "stream",
          "text": [
            "(4162459, 'Aarons, Alfred E.', '', 'A China Doll. Act i.', '1904', 1904, 'New York', 'M Witmark & Sons')\n",
            "(4162460, 'Aarons, Alfred E.', '', 'A China Doll.', '1904', 1904, 'New York', 'M Witmark & Sons')\n",
            "(4162461, 'Aarons, Alfred E.', '', 'The butterfly and the clover.', '1904', 1904, 'New York', 'M Witmark & Sons')\n",
            "(4162494, 'Aarons, Alfred E.', '', 'It s a andy thing to ave about the ouse ...', '1900', 1900, 'New York, Chicago', 'M Witmark & Sons')\n",
            "(4162495, 'Aarons, Alfred E.', '', 'Rob Roy Tam O Shanter O Brien ... [Song.]', '1900', 1900, 'New York, Chicago', 'M Witmark & Sons')\n"
          ],
          "name": "stdout"
        }
      ]
    },
    {
      "cell_type": "markdown",
      "metadata": {
        "id": "iBpzLAGQ4EeH"
      },
      "source": [
        "3.11 Provide an SQL query to count the number of empty records in the “Composer life dates” [3 marks].\n"
      ]
    },
    {
      "cell_type": "code",
      "metadata": {
        "id": "Nn4Ej0sf4HLU",
        "colab": {
          "base_uri": "https://localhost:8080/"
        },
        "outputId": "c3b9a489-aa8c-4cc4-a409-afbba53f38cc"
      },
      "source": [
        "#Solution\n",
        "cursor.execute(\"SELECT composer_life_dates FROM composers WHERE composer_life_dates = ''  \")\n",
        "result = cursor.fetchall()\n",
        "len(result)"
      ],
      "execution_count": null,
      "outputs": [
        {
          "output_type": "execute_result",
          "data": {
            "text/plain": [
              "15"
            ]
          },
          "metadata": {
            "tags": []
          },
          "execution_count": 24
        }
      ]
    },
    {
      "cell_type": "code",
      "metadata": {
        "colab": {
          "base_uri": "https://localhost:8080/"
        },
        "id": "x2yXrbG9URgd",
        "outputId": "390d5122-3a16-4387-f8f7-183e693b4e2f"
      },
      "source": [
        "def compute_Average(mylist):\n",
        "     sum = 0\n",
        "     average = 0\n",
        "     for i in mylist:\n",
        "       sum = i+1\n",
        "       average = sum/len(mylist)\n",
        "     return average\n",
        "\n",
        "list1 = [10,20,30,40]\n",
        "list2=[]\n",
        "print(compute_Average(list1))\n",
        "#print(compute_Average(list2))"
      ],
      "execution_count": 18,
      "outputs": [
        {
          "output_type": "stream",
          "text": [
            "10.25\n"
          ],
          "name": "stdout"
        }
      ]
    },
    {
      "cell_type": "code",
      "metadata": {
        "id": "4h5qAYi0jhSR"
      },
      "source": [
        "Student_record = {}\n",
        "Student_record['ID'] = 1000, 2000\n",
        "Student_record['Name'] = 'Mary', 'Carmen'\n",
        "Student_record['Module'] = 'PWD', 'CC'"
      ],
      "execution_count": 19,
      "outputs": []
    },
    {
      "cell_type": "code",
      "metadata": {
        "colab": {
          "base_uri": "https://localhost:8080/"
        },
        "id": "nzatiD4Kjm24",
        "outputId": "d2026404-150f-4417-98d1-366e5cbdb2a6"
      },
      "source": [
        "\n",
        "# Print the data for the Name and the Module keys of the dictionary\n",
        "for X, y in Student_record.items():\n",
        "  print(X, y)"
      ],
      "execution_count": 29,
      "outputs": [
        {
          "output_type": "stream",
          "text": [
            "ID (1000, 2000)\n",
            "Name ('Mary', 'Carmen')\n",
            "Module ('PWD', 'CC')\n"
          ],
          "name": "stdout"
        }
      ]
    },
    {
      "cell_type": "code",
      "metadata": {
        "colab": {
          "base_uri": "https://localhost:8080/"
        },
        "id": "4Ea0OR51UnJr",
        "outputId": "3cce60ef-ddd1-462a-8daa-f233168d6f86"
      },
      "source": [
        "print(compute_Average(list1))\n",
        "#print(compute_Average(list2))"
      ],
      "execution_count": 13,
      "outputs": [
        {
          "output_type": "stream",
          "text": [
            "10.25\n"
          ],
          "name": "stdout"
        }
      ]
    },
    {
      "cell_type": "markdown",
      "metadata": {
        "id": "6rmrLVvc4KOo"
      },
      "source": [
        "3.12 Provide an SQL query to update the “Place of publication” to Munich for record id: “4162652” [3 marks]."
      ]
    },
    {
      "cell_type": "code",
      "metadata": {
        "id": "ryAAZ4684O2g",
        "colab": {
          "base_uri": "https://localhost:8080/"
        },
        "outputId": "0138ce8a-f428-4bd9-c6c9-4df615e81b1d"
      },
      "source": [
        "#Solution\n",
        "#A SQL query to update the “Place of publication\n",
        "\n",
        "city = 'Munich'\n",
        "bl_id = 4162652\n",
        "# Update Place of publication to Munich for record id: “4162652”\n",
        "cursor.execute('''UPDATE composers SET place_of_publication= ? WHERE BL_record_ID = ? ''',\n",
        " (city, bl_id))\n",
        "\n",
        "# Query to check change \n",
        "cursor.execute('''SELECT * FROM composers WHERE BL_record_ID= ?''', (bl_id,))\n",
        "all_rows = cursor.fetchall()\n",
        "\n",
        "for row in all_rows:\n",
        "    print('{0} : {1}, {2}, {3}, {4}, {5},{6}, {7} '.format(row[0], row[1], row[2], row[3], row[4], row[5], row[6], row[7]))\n",
        "\n",
        "\n",
        "#con.commit()\n",
        "#con.close()"
      ],
      "execution_count": null,
      "outputs": [
        {
          "output_type": "stream",
          "text": [
            "4162652 : Abdey, Alfred William, , Te Deum in G , 1908, 1908,Munich,  \n"
          ],
          "name": "stdout"
        }
      ]
    },
    {
      "cell_type": "markdown",
      "metadata": {
        "id": "Z3jpvYFB4Sc3"
      },
      "source": [
        "**Part 2**: Consider the dataset as given in data_for_sql_task.xlsx file. "
      ]
    },
    {
      "cell_type": "markdown",
      "metadata": {
        "id": "SgkdXFJk4YrA"
      },
      "source": [
        "3.13 Create a database considering the following tables Composers, Publications and Publishers. Consider the following constraints: One publication can belong to one Composer, one Composer can have multiple Publications, one Publication can belong only to one Publisher and one Publisher can have multiple Publications.\n",
        "\n",
        "• Feel free to improvise when designing your design"
      ]
    },
    {
      "cell_type": "markdown",
      "metadata": {
        "id": "WWHZZq_N9Z4O"
      },
      "source": [
        "a. Provide the database diagram and relationships and their cardinality (1-1, 1-M or MM) for at least three tables considering the above constraints [5 marks]"
      ]
    },
    {
      "cell_type": "markdown",
      "metadata": {
        "id": "jrFsigEM9ocb"
      },
      "source": [
        "\n",
        "b. Provide the SQL scripts (at least three) to create the tables and their relationships (using either SQLite or Oracle) [5 marks]."
      ]
    },
    {
      "cell_type": "code",
      "metadata": {
        "colab": {
          "base_uri": "https://localhost:8080/"
        },
        "id": "8KljBtdIo_GS",
        "outputId": "6f280881-f006-4456-edd4-cbcc2e01249c"
      },
      "source": [
        "# Solution using SQLite\n",
        "# SQL scripts to create tables and their relationships\n",
        "\n",
        "import pandas as pd\n",
        "import sqlite3\n",
        "conn = sqlite3.connect('bd.db')\n",
        "cursor = conn.cursor()\n",
        "\n",
        "# Publisher_ID to be assigned to each publisher\n",
        "publisher_IDs =['P1', 'P2', 'P3', 'P4', 'P5', 'P6', 'P7', 'P8', 'P9', 'P10', 'P11', 'P12', 'P13', 'P14', 'P15', 'P16', 'P17', 'P18', 'P19']\n",
        "\n",
        "cursor.execute('DROP TABLE IF EXISTS composers')\n",
        "cursor.execute('DROP TABLE IF EXISTS publications')\n",
        "\n",
        "# Create the composers and the publications tables\n",
        "cursor.execute(\"CREATE TABLE composers (ComposerID INTEGER PRIMARY KEY NOT NULL, Composer_Name TEXT, Composer_life_date TEXT )\")\n",
        "cursor.execute(\"CREATE TABLE publications(Publication_Title TEXT unique NOT NULL, Publication_date_standardised INTEGER, Publication_date_not_standardised TEXT, Place_of_publication TEXT)\")"
      ],
      "execution_count": null,
      "outputs": [
        {
          "output_type": "execute_result",
          "data": {
            "text/plain": [
              "<sqlite3.Cursor at 0x7fa749ed2ea0>"
            ]
          },
          "metadata": {
            "tags": []
          },
          "execution_count": 21
        }
      ]
    },
    {
      "cell_type": "code",
      "metadata": {
        "colab": {
          "base_uri": "https://localhost:8080/"
        },
        "id": "e7rci4rGpBR4",
        "outputId": "7a2be7d9-929c-410c-f004-80cd9e268f86"
      },
      "source": [
        "# CONSTRAINTS:\n",
        "# One publication belong to one Composer, \n",
        "# One Composer can have multiple Publications, \n",
        "# One Publication can belong only to one Publisher and \n",
        "#One Publisher can have multiple Publications.\n",
        "\n",
        "# DROP publishers TABLE IF EXISTS \n",
        "cursor.execute('DROP TABLE IF EXISTS publishers')\n",
        "\n",
        "# Create publishers table as the linking table \n",
        "cursor.execute('''CREATE TABLE publishers(\n",
        "  ComposerID INTEGER NOT NULL,  \n",
        "  Publication_Title TEXT unique NOT NULL, \n",
        "  Publisher_ID TEXT NOT NULL,\n",
        "  Publisher_Name TEXT NOT NULL,\n",
        "  PRIMARY KEY(ComposerID, Publication_Title),\n",
        "  CONSTRAINT FK1 FOREIGN KEY (ComposerID) REFERENCES composers(ComposerID), \n",
        "  CONSTRAINT FK2 FOREIGN KEY (Publication_Title) REFERENCES publications(Publication_Title) )''') "
      ],
      "execution_count": null,
      "outputs": [
        {
          "output_type": "execute_result",
          "data": {
            "text/plain": [
              "<sqlite3.Cursor at 0x7fa749ed2ea0>"
            ]
          },
          "metadata": {
            "tags": []
          },
          "execution_count": 22
        }
      ]
    },
    {
      "cell_type": "code",
      "metadata": {
        "colab": {
          "base_uri": "https://localhost:8080/"
        },
        "id": "0URkGJATpFIR",
        "outputId": "c948198d-da8c-463e-e182-29a1c27ee37b"
      },
      "source": [
        "print('INSERTING COMPOSER DATA')\n",
        "for i in range(len(composer)):\n",
        "  cursor.execute('''INSERT INTO composers( ComposerID, Composer_Name, Composer_life_date)\n",
        "  VALUES(?,?,?)''', (bl_record_ID[i], composer[i], composer_life_dates[i]))"
      ],
      "execution_count": null,
      "outputs": [
        {
          "output_type": "stream",
          "text": [
            "INSERTING COMPOSER DATA\n"
          ],
          "name": "stdout"
        }
      ]
    },
    {
      "cell_type": "code",
      "metadata": {
        "colab": {
          "base_uri": "https://localhost:8080/"
        },
        "id": "mCzR3bmnrU6D",
        "outputId": "0fde96d9-65b2-4a8a-91ad-92b767fad6c8"
      },
      "source": [
        "print('INSERTING PUBLICATIONS DATA')\n",
        "for i in range(len(composer)):\n",
        "  cursor.execute('''INSERT INTO publications(Publication_Title, Publication_date_standardised, Publication_date_not_standardised, Place_of_publication) \n",
        " VALUES(?,?,?,?)''', ( title[i], publication_date_standardised[i], publication_date_not_standardised[i], place_of_publication[i]))"
      ],
      "execution_count": null,
      "outputs": [
        {
          "output_type": "stream",
          "text": [
            "INSERTING PUBLICATIONS DATA\n"
          ],
          "name": "stdout"
        }
      ]
    },
    {
      "cell_type": "code",
      "metadata": {
        "colab": {
          "base_uri": "https://localhost:8080/"
        },
        "id": "hxaQkbnZreSw",
        "outputId": "1eb3409d-9b08-49c5-bd96-848a47448db9"
      },
      "source": [
        "print('INSERTING PUBLISHERS DATA: Relationships Table ')\n",
        "for i in range(len(composer)):\n",
        "  cursor.execute('''INSERT INTO publishers( ComposerID, Publication_Title, Publisher_ID, Publisher_Name )\n",
        "  VALUES(?,?,?,?)''', (bl_record_ID[i], title[i], publisher_IDs[i], publisher[i] ))"
      ],
      "execution_count": null,
      "outputs": [
        {
          "output_type": "stream",
          "text": [
            "INSERTING PUBLISHERS DATA: Relationships Table \n"
          ],
          "name": "stdout"
        }
      ]
    },
    {
      "cell_type": "code",
      "metadata": {
        "colab": {
          "base_uri": "https://localhost:8080/"
        },
        "id": "H5Xcpv7eI6FJ",
        "outputId": "4701dab7-d5b4-483f-ca47-41ad0c1879e1"
      },
      "source": [
        "# SELECT one row FROM  composers\n",
        "one_row = cursor.execute(\"SELECT * FROM composers\").fetchone()\n",
        "print(one_row)\n"
      ],
      "execution_count": null,
      "outputs": [
        {
          "output_type": "stream",
          "text": [
            "(4162443, 'S. A.', '')\n"
          ],
          "name": "stdout"
        }
      ]
    },
    {
      "cell_type": "code",
      "metadata": {
        "colab": {
          "base_uri": "https://localhost:8080/"
        },
        "id": "vXF3Znbvsv-o",
        "outputId": "f410d205-3366-4265-ea84-1d9c6caf3cf9"
      },
      "source": [
        "#SELECT one row FROM publication\n",
        "one_row = cursor.execute(\"SELECT * FROM publications\").fetchone()\n",
        "print(one_row)"
      ],
      "execution_count": null,
      "outputs": [
        {
          "output_type": "stream",
          "text": [
            "('Short Pieces and Hymn Tunes.', 1915, '1915', 'London')\n"
          ],
          "name": "stdout"
        }
      ]
    },
    {
      "cell_type": "code",
      "metadata": {
        "colab": {
          "base_uri": "https://localhost:8080/"
        },
        "id": "V9o0D2jHBDVw",
        "outputId": "4d87c096-2918-4142-eae1-ef79ba478ce1"
      },
      "source": [
        "#SELECT one row FROM publishers\n",
        "one_row = cursor.execute(\"SELECT * FROM publishers\").fetchone()\n",
        "print(one_row)"
      ],
      "execution_count": null,
      "outputs": [
        {
          "output_type": "stream",
          "text": [
            "(4162443, 'Short Pieces and Hymn Tunes.', 'P1', 'Joseph Williams')\n"
          ],
          "name": "stdout"
        }
      ]
    },
    {
      "cell_type": "code",
      "metadata": {
        "colab": {
          "base_uri": "https://localhost:8080/"
        },
        "id": "z-IInON39Lb3",
        "outputId": "aed6fe35-ddc9-4a01-8e87-ea038033d21c"
      },
      "source": [
        "#\"SELECT composers.Composer_Name,composers.ComposerID, Publication.Publication_Title,publishers.Publisher_ID FROM  composers, Publication,  publishers\n",
        "one_row = cursor.execute(\"SELECT composers.Composer_Name,composers.Composer_ID, publishers.Publication_Title,publishers.Publisher_ID FROM  composers, publications,  publishers\").fetchone()\n",
        "print(one_row)"
      ],
      "execution_count": null,
      "outputs": [
        {
          "output_type": "stream",
          "text": [
            "('S. A.', 4162443, 'Short Pieces and Hymn Tunes.', 'P1')\n"
          ],
          "name": "stdout"
        }
      ]
    },
    {
      "cell_type": "markdown",
      "metadata": {
        "id": "B6Ukl-Qw40Uw"
      },
      "source": [
        "\n",
        "#Section IV, (5 marks) \n",
        " \n"
      ]
    },
    {
      "cell_type": "markdown",
      "metadata": {
        "id": "IRIqfH0_44PP"
      },
      "source": [
        "Using the “data_for_sql_task.xlsx” extract data to an SQL database table using Python (in SQLite).\n",
        "Use all the records from the given csv file and run the following queries."
      ]
    },
    {
      "cell_type": "markdown",
      "metadata": {
        "id": "WzLoeQeE4-sH"
      },
      "source": [
        "[link text](https://)4.1 Provide the Python script to create a new table for the given dataset [1 mark]"
      ]
    },
    {
      "cell_type": "code",
      "metadata": {
        "id": "M5FYOZjk5DBH",
        "colab": {
          "base_uri": "https://localhost:8080/"
        },
        "outputId": "bff2ed56-ba4e-4741-d0fc-6711fa6cabbd"
      },
      "source": [
        "#Solution extract data directly to an SQL database table using Python (in SQLite).\n",
        " \n",
        "import sqlite3\n",
        "import pandas as pd # import pandas\n",
        "from sqlalchemy import create_engine # import create_engine\n",
        "engine = create_engine('sqlite://', echo=False)\n",
        "\n",
        "con = sqlite3.connect('das.db')\n",
        "mycomposers = pd.read_excel('/content/data_for_sql_task.xlsx',sheet_name = None) # Transform excel into dataframe\n",
        "cursor = con.cursor()\n",
        "cursor.execute('DROP TABLE IF EXISTS composers')\n",
        "\n",
        "# Creating and extracting mydata TO SQL as composers Table\n",
        "for TABLE in mycomposers:\n",
        "    mycomposers[TABLE].to_sql('composers',con = engine) # Convert dataframe to sql database TABLE\n",
        "\n",
        "\n",
        "# Fetch Composer, Title, Publisher from composers using only one_row\n",
        "#one_row = engine.execute(\"select Composer, Title, Publisher from composers\").fetchone()\n",
        "#print(one_row)\n",
        "# The following query fetch all records from the given composers and run the \n",
        "all_rows = engine.execute('''SELECT * FROM composers''').fetchall()\n",
        "all_rows\n",
        "#"
      ],
      "execution_count": null,
      "outputs": [
        {
          "output_type": "execute_result",
          "data": {
            "text/plain": [
              "[(0, 4162443, 'S. A.', None, 'Short Pieces and Hymn Tunes.', 1915, 1915, 'London', 'Joseph Williams'),\n",
              " (1, 4162459, 'Aarons, Alfred E.', None, 'A China Doll. Act i.', 1904, 1904, 'New York ', 'M Witmark & Sons'),\n",
              " (2, 4162460, 'Aarons, Alfred E.', None, 'A China Doll. ', 1904, 1904, 'New York ', 'M Witmark & Sons'),\n",
              " (3, 4162461, 'Aarons, Alfred E.', None, 'The butterfly and the clover. ', 1904, 1904, 'New York ', 'M Witmark & Sons'),\n",
              " (4, 4162494, 'Aarons, Alfred E.', None, \"It's a 'andy thing to 'ave about the 'ouse ... \", 1900, 1900, 'New York, Chicago', 'M Witmark & Sons'),\n",
              " (5, 4162495, 'Aarons, Alfred E.', None, \"Rob Roy Tam O'Shanter O'Brien ... [Song.] \", 1900, 1900, 'New York, Chicago', 'M Witmark & Sons'),\n",
              " (6, 4162510, 'Aarons, Sam', None, 'The East End Aristocracy …', 1907, 1907, 'London', 'London Printing Press'),\n",
              " (7, 4162545, 'Abadie, Louis', None, \"L'Amoureux de Pontoise. \", 1850, 1850, 'Paris', 'F Gauvin'),\n",
              " (8, 4162578, 'Abbate, Charles', None, 'Southern Nights. [Song.] ', 1915, 1915, 'New York', 'Shapiro, Bernstein & Co'),\n",
              " (9, 4162621, 'Abbott, Jane Bingham', None, 'Alone with God. [Song.]', 1903, 1903, 'Chicago', 'C F Summy Co'),\n",
              " (10, 4162622, 'Abbott, Jane Bingham', None, 'Just for today. Sacred Song', 1894, 1894, 'Chicago', 'C F Summy Co'),\n",
              " (11, 4162651, 'Abdey, Alfred William', None, 'Pam the Wonder-Child. ', 1926, 1926, 'London', \"'The Stage' Play Publishing Bureau\"),\n",
              " (12, 4162652, 'Abdey, Alfred William', None, 'Te Deum in G', 1908, 1908, None, None),\n",
              " (13, 4162653, \"A'becket, Percy\", None, 'I was there with á¹\\x81ine.', 1894, 1894, 'London', 'Francis, Day & Hunter'),\n",
              " (14, 4162654, \"A'becket, Thomas\", None, 'Columbia, the Gem of the Ocean.', 1948, 1948, 'New York', 'Harold Flammer'),\n",
              " (15, 4162611, 'Abbott, Edwin B.', '1881 or 1882-1956', 'Harbour of Dreams …', 1919, 1919, 'Saint Paul, Minn', 'W J Dyer & Bro'),\n",
              " (16, 4162612, 'Abbott, Edwin B.', '1881 or 1882-1956', \"Love's Voice divine …\", 1919, 1919, 'Saint Paul, Minn', 'W J Dyer & Bro'),\n",
              " (17, 4162779, 'Abel, Karl Friedrich', '1723-1787', 'Six Simphonies ... ', 1780, 1780, 'London', 'Printed for the Author'),\n",
              " (18, 4162780, 'Abel, Karl Friedrich', '1723-1787', 'Symphonie op. vii, No. 6', 1976, 1976, 'Basel', 'Edition Kneusslin')]"
            ]
          },
          "metadata": {
            "tags": []
          },
          "execution_count": 29
        }
      ]
    },
    {
      "cell_type": "markdown",
      "metadata": {
        "id": "KKhRO6NY5L7X"
      },
      "source": [
        "4.2 Provide the Python script to count how many Composers are in the dataset [1 mark]."
      ]
    },
    {
      "cell_type": "code",
      "metadata": {
        "id": "MUn4Vr1T5Nk-",
        "colab": {
          "base_uri": "https://localhost:8080/"
        },
        "outputId": "99798863-54b6-4ab3-f28c-08a396390bae"
      },
      "source": [
        "#Solution\n",
        "result =engine.execute(\"SELECT count(Composer) FROM composers\")\n",
        "for i in result: # a forloop to count elements\n",
        "  print(i)\n",
        " "
      ],
      "execution_count": null,
      "outputs": [
        {
          "output_type": "stream",
          "text": [
            "(19,)\n"
          ],
          "name": "stdout"
        }
      ]
    },
    {
      "cell_type": "markdown",
      "metadata": {
        "id": "ZmsvIjEH5QMe"
      },
      "source": [
        "4.3 Provide the Python script to find if there is a Composers named “Aarons, Sam” [1 mark]."
      ]
    },
    {
      "cell_type": "code",
      "metadata": {
        "id": "6pGN8c5f5UVi",
        "colab": {
          "base_uri": "https://localhost:8080/"
        },
        "outputId": "3422518a-a3dc-4e01-b62f-c956d7f13f6d"
      },
      "source": [
        "#Solution\n",
        "result = engine.execute('''select * from composers WHERE Composer = 'Aarons, Sam' ''')\n",
        "for i in result:\n",
        "  print(i)"
      ],
      "execution_count": null,
      "outputs": [
        {
          "output_type": "stream",
          "text": [
            "(6, 4162510, 'Aarons, Sam', None, 'The East End Aristocracy …', 1907, 1907, 'London', 'London Printing Press')\n"
          ],
          "name": "stdout"
        }
      ]
    },
    {
      "cell_type": "markdown",
      "metadata": {
        "id": "RomrxrlF5XrX"
      },
      "source": [
        "4.4 Provide the Python script to search for a city given by the user (given as input from Python) for the “Place of publication” [1 mark]."
      ]
    },
    {
      "cell_type": "code",
      "metadata": {
        "colab": {
          "base_uri": "https://localhost:8080/"
        },
        "id": "gKA0zWLfNcd4",
        "outputId": "ee0359fc-bbdc-4e58-ef2b-a271849ba5b6"
      },
      "source": [
        "# Solution:\n",
        "# Modidied /content/data_for_sql_task.xlsx as /content/data_for_sql_task_updated.xlsx to be able to read directly the file, \n",
        "# So that Place of publication column name become Place_of_publication\n",
        "# Without this modification it is not possible query the database and to check if a city_name exist in the database\n",
        "\n",
        "import sqlite3\n",
        "import pandas as pd # import pandas\n",
        "from sqlalchemy import create_engine # import create_engine\n",
        "engine = create_engine('sqlite://', echo=False)\n",
        "\n",
        "con = sqlite3.connect('das.db')\n",
        "mycomposers = pd.read_excel('/content/data_for_sql_task_updated.xlsx',sheet_name = None) # Transform excel into dataframe\n",
        "#cursor = con.cursor()\n",
        "cursor.execute('DROP TABLE IF EXISTS composers')\n",
        "\n",
        "# Creating and extracting mydata TO SQL as composers Table\n",
        "for TABLE in mycomposers:\n",
        "    mycomposers[TABLE].to_sql('composers',con = engine) # Convert dataframe to sql\n",
        "\n",
        "\n",
        "city_name = input('Enter city name: ') \n",
        "# Query to check if city_name exist in the database\n",
        "result = engine.execute('''SELECT * FROM composers WHERE Place_of_publication = ?''', (city_name,))\n",
        "for i in result:\n",
        "  print(i)\n"
      ],
      "execution_count": null,
      "outputs": [
        {
          "output_type": "stream",
          "text": [
            "Enter city name: London\n",
            "(0, 4162443, 'S. A.', None, 'Short Pieces and Hymn Tunes.', 1915, 1915, 'London', 'Joseph Williams')\n",
            "(6, 4162510, 'Aarons, Sam', None, 'The East End Aristocracy …', 1907, 1907, 'London', 'London Printing Press')\n",
            "(11, 4162651, 'Abdey, Alfred William', None, 'Pam the Wonder-Child. ', 1926, 1926, 'London', \"'The Stage' Play Publishing Bureau\")\n",
            "(13, 4162653, \"A'becket, Percy\", None, 'I was there with á¹\\x81ine.', 1894, 1894, 'London', 'Francis, Day & Hunter')\n",
            "(17, 4162779, 'Abel, Karl Friedrich', '1723-1787', 'Six Simphonies ... ', 1780, 1780, 'London', 'Printed for the Author')\n"
          ],
          "name": "stdout"
        }
      ]
    },
    {
      "cell_type": "markdown",
      "metadata": {
        "id": "Csx5qCxW5hvs"
      },
      "source": [
        "**4.5**. Provide the Python script to search for publishers that that their name ends with a letter or letters given by the user (as input). For example, publishers finish with “…peare”, e.g., Shakespeare [1 mark].\n"
      ]
    },
    {
      "cell_type": "code",
      "metadata": {
        "colab": {
          "base_uri": "https://localhost:8080/"
        },
        "id": "-zioGOfsjxKL",
        "outputId": "b7085e7b-9f6c-4fa6-b8bd-e87e6718801f"
      },
      "source": [
        "#Provide solution\n",
        "user_input = input('Enter publisher name, ending with %: ')\n",
        "result = engine.execute('''SELECT * FROM composers WHERE Publisher LIKE ? ''', (user_input,),).fetchall()\n",
        "\n",
        "#print(cursor.fetchall)\n",
        "print(result)"
      ],
      "execution_count": null,
      "outputs": [
        {
          "output_type": "stream",
          "text": [
            "Enter publisher name, ending with %: Joseph%\n",
            "[(0, 4162443, 'S. A.', None, 'Short Pieces and Hymn Tunes.', 1915, 1915, 'London', 'Joseph Williams')]\n"
          ],
          "name": "stdout"
        }
      ]
    },
    {
      "cell_type": "markdown",
      "metadata": {
        "id": "jZzj-ija5xR0"
      },
      "source": [
        "#Section V (15 marks)\n"
      ]
    },
    {
      "cell_type": "markdown",
      "metadata": {
        "id": "fiX1rseQ50dw"
      },
      "source": [
        "**5.1** Provide comments and briefly explain your code. Provide short descriptions, if necessary [5 marks]."
      ]
    },
    {
      "cell_type": "markdown",
      "metadata": {
        "id": "UM4Q2wpsRIch"
      },
      "source": [
        "#Please see a separated report attached"
      ]
    },
    {
      "cell_type": "markdown",
      "metadata": {
        "id": "1KDIDA-qIHtd"
      },
      "source": [
        "**5.2** Provide a short text to describe any problems or challenges you experience during the coursework and the lessons learned [10 marks].\n",
        "\n"
      ]
    },
    {
      "cell_type": "markdown",
      "metadata": {
        "id": "11sSxviGRe8m"
      },
      "source": [
        "#Please see a separated report attached\n"
      ]
    },
    {
      "cell_type": "markdown",
      "metadata": {
        "id": "x8CcHVyRIhk9"
      },
      "source": [
        "**a**. In Task 5.2, include a short description to compare both tasks (2.1 and 2.2) and critically analyse the pros and cons of each algorithm.\n"
      ]
    },
    {
      "cell_type": "markdown",
      "metadata": {
        "id": "VNr2QcE0RoMl"
      },
      "source": [
        "#Please see a separated report attached"
      ]
    },
    {
      "cell_type": "markdown",
      "metadata": {
        "id": "pubfcYFkIvLO"
      },
      "source": [
        "**b**. In Task 3 (3.13), include a description of your database design diagrams and a short discussion on your design decisions.\n"
      ]
    },
    {
      "cell_type": "markdown",
      "metadata": {
        "id": "7ZKSJVJ3RzKV"
      },
      "source": [
        "#Please see a separated report attached\n"
      ]
    },
    {
      "cell_type": "markdown",
      "metadata": {
        "id": "uSwh_mX-I85X"
      },
      "source": [
        "**c**. Use the annex to provide references to any online sources you might use.\n"
      ]
    },
    {
      "cell_type": "markdown",
      "metadata": {
        "id": "T-f9_tQER4Ml"
      },
      "source": [
        "#Please see a separated report attached\n"
      ]
    }
  ]
}